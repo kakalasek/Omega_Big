{
 "cells": [
  {
   "cell_type": "markdown",
   "metadata": {
    "id": "qw7bFl1fMsBh"
   },
   "source": [
    "## This script trains a model from the dataset obtained from data_processing.ipynb file     \n",
    "**We can choose from multiple models**"
   ]
  },
  {
   "cell_type": "markdown",
   "metadata": {},
   "source": [
    "# Import pandas and sklearn"
   ]
  },
  {
   "cell_type": "code",
   "execution_count": 22,
   "metadata": {
    "executionInfo": {
     "elapsed": 432,
     "status": "ok",
     "timestamp": 1742488059432,
     "user": {
      "displayName": "Gambir369",
      "userId": "18272162756121039101"
     },
     "user_tz": -60
    },
    "id": "1QcBgBbSMCYA"
   },
   "outputs": [],
   "source": [
    "import pandas as pd\n",
    "from sklearn.ensemble import RandomForestClassifier, GradientBoostingClassifier, HistGradientBoostingClassifier\n",
    "from sklearn.pipeline import Pipeline\n",
    "from sklearn.model_selection import GridSearchCV, train_test_split\n",
    "from sklearn.preprocessing import StandardScaler"
   ]
  },
  {
   "cell_type": "markdown",
   "metadata": {
    "id": "od7oNpP0UXrM"
   },
   "source": [
    "# Load our dataset from csv file"
   ]
  },
  {
   "cell_type": "code",
   "execution_count": 2,
   "metadata": {
    "colab": {
     "base_uri": "https://localhost:8080/",
     "height": 311
    },
    "executionInfo": {
     "elapsed": 48,
     "status": "error",
     "timestamp": 1742488060096,
     "user": {
      "displayName": "Gambir369",
      "userId": "18272162756121039101"
     },
     "user_tz": -60
    },
    "id": "zGGwFsmtFlBy",
    "outputId": "1b67aeef-dab6-4b69-c792-127e0b8d9179"
   },
   "outputs": [
    {
     "data": {
      "text/html": [
       "<div>\n",
       "<style scoped>\n",
       "    .dataframe tbody tr th:only-of-type {\n",
       "        vertical-align: middle;\n",
       "    }\n",
       "\n",
       "    .dataframe tbody tr th {\n",
       "        vertical-align: top;\n",
       "    }\n",
       "\n",
       "    .dataframe thead th {\n",
       "        text-align: right;\n",
       "    }\n",
       "</style>\n",
       "<table border=\"1\" class=\"dataframe\">\n",
       "  <thead>\n",
       "    <tr style=\"text-align: right;\">\n",
       "      <th></th>\n",
       "      <th>0</th>\n",
       "      <th>1</th>\n",
       "      <th>2</th>\n",
       "      <th>3</th>\n",
       "      <th>4</th>\n",
       "      <th>5</th>\n",
       "      <th>6</th>\n",
       "      <th>7</th>\n",
       "      <th>8</th>\n",
       "      <th>9</th>\n",
       "      <th>...</th>\n",
       "      <th>21</th>\n",
       "      <th>22</th>\n",
       "      <th>23</th>\n",
       "      <th>24</th>\n",
       "      <th>25</th>\n",
       "      <th>26</th>\n",
       "      <th>27</th>\n",
       "      <th>28</th>\n",
       "      <th>29</th>\n",
       "      <th>class</th>\n",
       "    </tr>\n",
       "  </thead>\n",
       "  <tbody>\n",
       "    <tr>\n",
       "      <th>0</th>\n",
       "      <td>517</td>\n",
       "      <td>-1240</td>\n",
       "      <td>-1240</td>\n",
       "      <td>-1231</td>\n",
       "      <td>80</td>\n",
       "      <td>-287</td>\n",
       "      <td>-287</td>\n",
       "      <td>0</td>\n",
       "      <td>0</td>\n",
       "      <td>0</td>\n",
       "      <td>...</td>\n",
       "      <td>0</td>\n",
       "      <td>0</td>\n",
       "      <td>0</td>\n",
       "      <td>0</td>\n",
       "      <td>0</td>\n",
       "      <td>0</td>\n",
       "      <td>0</td>\n",
       "      <td>0</td>\n",
       "      <td>0</td>\n",
       "      <td>1</td>\n",
       "    </tr>\n",
       "    <tr>\n",
       "      <th>1</th>\n",
       "      <td>517</td>\n",
       "      <td>-1368</td>\n",
       "      <td>-1368</td>\n",
       "      <td>-457</td>\n",
       "      <td>-457</td>\n",
       "      <td>64</td>\n",
       "      <td>-614</td>\n",
       "      <td>272</td>\n",
       "      <td>-31</td>\n",
       "      <td>1234</td>\n",
       "      <td>...</td>\n",
       "      <td>0</td>\n",
       "      <td>0</td>\n",
       "      <td>0</td>\n",
       "      <td>0</td>\n",
       "      <td>0</td>\n",
       "      <td>0</td>\n",
       "      <td>0</td>\n",
       "      <td>0</td>\n",
       "      <td>0</td>\n",
       "      <td>1</td>\n",
       "    </tr>\n",
       "    <tr>\n",
       "      <th>2</th>\n",
       "      <td>517</td>\n",
       "      <td>-156</td>\n",
       "      <td>51</td>\n",
       "      <td>-69</td>\n",
       "      <td>68</td>\n",
       "      <td>-38</td>\n",
       "      <td>733</td>\n",
       "      <td>1024</td>\n",
       "      <td>1024</td>\n",
       "      <td>1024</td>\n",
       "      <td>...</td>\n",
       "      <td>0</td>\n",
       "      <td>0</td>\n",
       "      <td>0</td>\n",
       "      <td>0</td>\n",
       "      <td>0</td>\n",
       "      <td>0</td>\n",
       "      <td>0</td>\n",
       "      <td>0</td>\n",
       "      <td>0</td>\n",
       "      <td>1</td>\n",
       "    </tr>\n",
       "    <tr>\n",
       "      <th>3</th>\n",
       "      <td>463</td>\n",
       "      <td>-1412</td>\n",
       "      <td>-1412</td>\n",
       "      <td>-1412</td>\n",
       "      <td>-305</td>\n",
       "      <td>80</td>\n",
       "      <td>485</td>\n",
       "      <td>-618</td>\n",
       "      <td>-31</td>\n",
       "      <td>31</td>\n",
       "      <td>...</td>\n",
       "      <td>0</td>\n",
       "      <td>0</td>\n",
       "      <td>0</td>\n",
       "      <td>0</td>\n",
       "      <td>0</td>\n",
       "      <td>0</td>\n",
       "      <td>0</td>\n",
       "      <td>0</td>\n",
       "      <td>0</td>\n",
       "      <td>1</td>\n",
       "    </tr>\n",
       "    <tr>\n",
       "      <th>4</th>\n",
       "      <td>561</td>\n",
       "      <td>-212</td>\n",
       "      <td>64</td>\n",
       "      <td>-586</td>\n",
       "      <td>46</td>\n",
       "      <td>37</td>\n",
       "      <td>-31</td>\n",
       "      <td>35</td>\n",
       "      <td>871</td>\n",
       "      <td>-192</td>\n",
       "      <td>...</td>\n",
       "      <td>-539</td>\n",
       "      <td>-68</td>\n",
       "      <td>-230</td>\n",
       "      <td>215</td>\n",
       "      <td>-76</td>\n",
       "      <td>39</td>\n",
       "      <td>89</td>\n",
       "      <td>-83</td>\n",
       "      <td>39</td>\n",
       "      <td>2</td>\n",
       "    </tr>\n",
       "    <tr>\n",
       "      <th>...</th>\n",
       "      <td>...</td>\n",
       "      <td>...</td>\n",
       "      <td>...</td>\n",
       "      <td>...</td>\n",
       "      <td>...</td>\n",
       "      <td>...</td>\n",
       "      <td>...</td>\n",
       "      <td>...</td>\n",
       "      <td>...</td>\n",
       "      <td>...</td>\n",
       "      <td>...</td>\n",
       "      <td>...</td>\n",
       "      <td>...</td>\n",
       "      <td>...</td>\n",
       "      <td>...</td>\n",
       "      <td>...</td>\n",
       "      <td>...</td>\n",
       "      <td>...</td>\n",
       "      <td>...</td>\n",
       "      <td>...</td>\n",
       "      <td>...</td>\n",
       "    </tr>\n",
       "    <tr>\n",
       "      <th>1031090</th>\n",
       "      <td>517</td>\n",
       "      <td>-1238</td>\n",
       "      <td>-1238</td>\n",
       "      <td>-822</td>\n",
       "      <td>64</td>\n",
       "      <td>1238</td>\n",
       "      <td>442</td>\n",
       "      <td>-179</td>\n",
       "      <td>-62</td>\n",
       "      <td>-31</td>\n",
       "      <td>...</td>\n",
       "      <td>0</td>\n",
       "      <td>0</td>\n",
       "      <td>0</td>\n",
       "      <td>0</td>\n",
       "      <td>0</td>\n",
       "      <td>0</td>\n",
       "      <td>0</td>\n",
       "      <td>0</td>\n",
       "      <td>0</td>\n",
       "      <td>1</td>\n",
       "    </tr>\n",
       "    <tr>\n",
       "      <th>1031091</th>\n",
       "      <td>212</td>\n",
       "      <td>-1330</td>\n",
       "      <td>-1330</td>\n",
       "      <td>-1330</td>\n",
       "      <td>-106</td>\n",
       "      <td>-1330</td>\n",
       "      <td>-589</td>\n",
       "      <td>93</td>\n",
       "      <td>-51</td>\n",
       "      <td>1380</td>\n",
       "      <td>...</td>\n",
       "      <td>0</td>\n",
       "      <td>0</td>\n",
       "      <td>0</td>\n",
       "      <td>0</td>\n",
       "      <td>0</td>\n",
       "      <td>0</td>\n",
       "      <td>0</td>\n",
       "      <td>0</td>\n",
       "      <td>0</td>\n",
       "      <td>1</td>\n",
       "    </tr>\n",
       "    <tr>\n",
       "      <th>1031092</th>\n",
       "      <td>461</td>\n",
       "      <td>-1448</td>\n",
       "      <td>-1448</td>\n",
       "      <td>-621</td>\n",
       "      <td>80</td>\n",
       "      <td>345</td>\n",
       "      <td>-287</td>\n",
       "      <td>-287</td>\n",
       "      <td>-1448</td>\n",
       "      <td>-1448</td>\n",
       "      <td>...</td>\n",
       "      <td>-1448</td>\n",
       "      <td>-1448</td>\n",
       "      <td>-1448</td>\n",
       "      <td>-1448</td>\n",
       "      <td>-1448</td>\n",
       "      <td>-1448</td>\n",
       "      <td>-1448</td>\n",
       "      <td>-1448</td>\n",
       "      <td>-517</td>\n",
       "      <td>1</td>\n",
       "    </tr>\n",
       "    <tr>\n",
       "      <th>1031093</th>\n",
       "      <td>552</td>\n",
       "      <td>-133</td>\n",
       "      <td>-41</td>\n",
       "      <td>-1400</td>\n",
       "      <td>-1364</td>\n",
       "      <td>-246</td>\n",
       "      <td>-286</td>\n",
       "      <td>-74</td>\n",
       "      <td>80</td>\n",
       "      <td>-303</td>\n",
       "      <td>...</td>\n",
       "      <td>72</td>\n",
       "      <td>72</td>\n",
       "      <td>76</td>\n",
       "      <td>76</td>\n",
       "      <td>72</td>\n",
       "      <td>72</td>\n",
       "      <td>1460</td>\n",
       "      <td>1309</td>\n",
       "      <td>1460</td>\n",
       "      <td>1</td>\n",
       "    </tr>\n",
       "    <tr>\n",
       "      <th>1031094</th>\n",
       "      <td>0</td>\n",
       "      <td>0</td>\n",
       "      <td>0</td>\n",
       "      <td>0</td>\n",
       "      <td>0</td>\n",
       "      <td>0</td>\n",
       "      <td>0</td>\n",
       "      <td>0</td>\n",
       "      <td>0</td>\n",
       "      <td>0</td>\n",
       "      <td>...</td>\n",
       "      <td>0</td>\n",
       "      <td>0</td>\n",
       "      <td>0</td>\n",
       "      <td>0</td>\n",
       "      <td>0</td>\n",
       "      <td>0</td>\n",
       "      <td>0</td>\n",
       "      <td>0</td>\n",
       "      <td>0</td>\n",
       "      <td>1</td>\n",
       "    </tr>\n",
       "  </tbody>\n",
       "</table>\n",
       "<p>1031095 rows × 31 columns</p>\n",
       "</div>"
      ],
      "text/plain": [
       "           0     1     2     3     4     5    6     7     8     9  ...    21  \\\n",
       "0        517 -1240 -1240 -1231    80  -287 -287     0     0     0  ...     0   \n",
       "1        517 -1368 -1368  -457  -457    64 -614   272   -31  1234  ...     0   \n",
       "2        517  -156    51   -69    68   -38  733  1024  1024  1024  ...     0   \n",
       "3        463 -1412 -1412 -1412  -305    80  485  -618   -31    31  ...     0   \n",
       "4        561  -212    64  -586    46    37  -31    35   871  -192  ...  -539   \n",
       "...      ...   ...   ...   ...   ...   ...  ...   ...   ...   ...  ...   ...   \n",
       "1031090  517 -1238 -1238  -822    64  1238  442  -179   -62   -31  ...     0   \n",
       "1031091  212 -1330 -1330 -1330  -106 -1330 -589    93   -51  1380  ...     0   \n",
       "1031092  461 -1448 -1448  -621    80   345 -287  -287 -1448 -1448  ... -1448   \n",
       "1031093  552  -133   -41 -1400 -1364  -246 -286   -74    80  -303  ...    72   \n",
       "1031094    0     0     0     0     0     0    0     0     0     0  ...     0   \n",
       "\n",
       "           22    23    24    25    26    27    28    29  class  \n",
       "0           0     0     0     0     0     0     0     0      1  \n",
       "1           0     0     0     0     0     0     0     0      1  \n",
       "2           0     0     0     0     0     0     0     0      1  \n",
       "3           0     0     0     0     0     0     0     0      1  \n",
       "4         -68  -230   215   -76    39    89   -83    39      2  \n",
       "...       ...   ...   ...   ...   ...   ...   ...   ...    ...  \n",
       "1031090     0     0     0     0     0     0     0     0      1  \n",
       "1031091     0     0     0     0     0     0     0     0      1  \n",
       "1031092 -1448 -1448 -1448 -1448 -1448 -1448 -1448  -517      1  \n",
       "1031093    72    76    76    72    72  1460  1309  1460      1  \n",
       "1031094     0     0     0     0     0     0     0     0      1  \n",
       "\n",
       "[1031095 rows x 31 columns]"
      ]
     },
     "execution_count": 2,
     "metadata": {},
     "output_type": "execute_result"
    }
   ],
   "source": [
    "data = pd.read_csv(\"final_dataset.csv\")\n",
    "data"
   ]
  },
  {
   "cell_type": "markdown",
   "metadata": {
    "id": "_jm0vSZiIMtf"
   },
   "source": [
    "# Choose a model to train\n",
    "**'rf' for Random Forest Classifier   \n",
    "'gbt' for Gradient Boosting Classifier   \n",
    "'hgbt' for Histogram Gradient Boosting Classifier**"
   ]
  },
  {
   "cell_type": "code",
   "execution_count": 25,
   "metadata": {
    "colab": {
     "base_uri": "https://localhost:8080/"
    },
    "executionInfo": {
     "elapsed": 774891,
     "status": "ok",
     "timestamp": 1742282010626,
     "user": {
      "displayName": "Gambir369",
      "userId": "18272162756121039101"
     },
     "user_tz": -60
    },
    "id": "QbIlA81uWWl9",
    "outputId": "a7e895fe-2375-4414-a1ea-1d0eb469268d"
   },
   "outputs": [],
   "source": [
    "model_type = input(\"Which model you want to train?: \")"
   ]
  },
  {
   "cell_type": "markdown",
   "metadata": {
    "id": "t3Wk0lWtU5IE"
   },
   "source": [
    "# Create a parameter grid\n",
    "**Model with combination of its different hyper parameters**"
   ]
  },
  {
   "cell_type": "code",
   "execution_count": 15,
   "metadata": {
    "id": "BQzrGkZpF2yS"
   },
   "outputs": [],
   "source": [
    "param_grids = {\n",
    "    \"rf\": {\n",
    "        \"estimator__n_estimators\": [100, 300, 600],\n",
    "        \"estimator__max_depth\": [5, 10, 15, None],\n",
    "        \"estimator__min_samples_split\": [2, 5, 10],\n",
    "        \"estimator__min_samples_leaf\": [1, 2, 4]\n",
    "    },\n",
    "    \"gbt\": {\n",
    "        \"estimator__n_estimators\": [100, 300, 600],\n",
    "        \"estimator__max_depth\": [3, 5, 8],\n",
    "        \"estimator__subsample\": [0.5, 0.7, 0.9]\n",
    "    },\n",
    "    \"hgbt\": {\n",
    "        \"estimator__max_iter\": [100, 300, 600],\n",
    "        \"estimator__max_leaf_nodes\": [15, 20, 31]\n",
    "    }\n",
    "}"
   ]
  },
  {
   "cell_type": "markdown",
   "metadata": {
    "id": "fHG_XWxrWwTF"
   },
   "source": [
    "# Create a method to train out model        \n",
    "**This method takes the model type and train datasets as parameters. It uses GridSearchCV to test several hyperparameter combinations and picks the best model**"
   ]
  },
  {
   "cell_type": "code",
   "execution_count": 34,
   "metadata": {
    "id": "xqT6KioBIdY6"
   },
   "outputs": [],
   "source": [
    "def train_model(model_type, X_train, y_train):\n",
    "  if model_type not in param_grids.keys():\n",
    "    raise NotImplementedError(\"The desired model was not found\")\n",
    "\n",
    "  base_pipe = Pipeline([(\"scaler\", StandardScaler()),\n",
    "                        (\"estimator\", {\n",
    "                  \"rf\": RandomForestClassifier(),\n",
    "                  \"gbt\": GradientBoostingClassifier(),\n",
    "                  \"hgbt\": HistGradientBoostingClassifier(),\n",
    "              }[model_type])])\n",
    "\n",
    "  model = GridSearchCV(\n",
    "              base_pipe,\n",
    "              param_grids[model_type],\n",
    "              cv=5,\n",
    "              n_jobs=16,\n",
    "              verbose=2,\n",
    "              scoring='accuracy',\n",
    "              error_score='raise',\n",
    "              refit=True\n",
    "        )\n",
    "\n",
    "  return model.fit(X_train, y_train)"
   ]
  },
  {
   "cell_type": "code",
   "execution_count": 28,
   "metadata": {},
   "outputs": [],
   "source": [
    "def train_model_quick(model_type, X_train, y_train, args):\n",
    "    if model_type not in param_grids.keys():\n",
    "        raise NotImplementedError(\"The desired model was not found\")\n",
    "    \n",
    "    base_pipe = Pipeline([\n",
    "              (\"scaler\", StandardScaler()),\n",
    "              (\"estimator\", {\n",
    "                  \"gbt\": GradientBoostingClassifier(n_estimators=args['trees'], max_depth=args['depth'], subsample=args['subsample'], verbose=1),\n",
    "                  \"hgbt\": HistGradientBoostingClassifier(max_iter=args['trees'], max_leaf_nodes=args['leaf_nodes'], early_stopping=False, verbose=1),\n",
    "                  \"rf\": RandomForestClassifier(n_estimators=args['trees'], max_depth=args['depth'], min_samples_leaf=['min_leaf'], min_samples_split=['min_split'] ,verbose=1),\n",
    "              }[model_type]),\n",
    "          ])\n",
    "    \n",
    "    return base_pipe.fit(X_train, y_train)"
   ]
  },
  {
   "cell_type": "markdown",
   "metadata": {
    "id": "Jj2XiI7XXFCQ"
   },
   "source": [
    "# We need to define the input features and target feature we want to classify"
   ]
  },
  {
   "cell_type": "code",
   "execution_count": 17,
   "metadata": {
    "id": "BMqBpyiZOwdt"
   },
   "outputs": [],
   "source": [
    "input_features = ['0', '1', '2', '3', '4', '5', '6', '7', '8', '9', '10', '11', '12', '13', '14', '15', '16', '17', '18', '19', '20', '21', '22', '23', '24', '25', '26', '27', '28', '29']\n",
    "target_feature = 'class'"
   ]
  },
  {
   "cell_type": "markdown",
   "metadata": {
    "id": "E6axmYkLXMK-"
   },
   "source": [
    "# We will split our dataset into training and testing data 9 to 1 (90% training, 10% testing)"
   ]
  },
  {
   "cell_type": "code",
   "execution_count": 18,
   "metadata": {
    "id": "H7_UA-N4QEdr"
   },
   "outputs": [],
   "source": [
    "X_train, X_test, y_train, y_test = train_test_split(data[input_features], data[target_feature], test_size=0.1)"
   ]
  },
  {
   "cell_type": "markdown",
   "metadata": {
    "id": "F0UNsF20Xwd5"
   },
   "source": [
    "# Run the function to train our model"
   ]
  },
  {
   "cell_type": "code",
   "execution_count": 29,
   "metadata": {},
   "outputs": [
    {
     "name": "stdout",
     "output_type": "stream",
     "text": [
      "Binning 0.223 GB of training data: 0.571 s\n",
      "Fitting gradient boosted rounds:\n",
      "[1/100] 26 trees, 390 leaves (15 on avg), max depth = 10, in 0.563s\n",
      "[2/100] 26 trees, 390 leaves (15 on avg), max depth = 11, in 0.538s\n",
      "[3/100] 26 trees, 390 leaves (15 on avg), max depth = 10, in 0.560s\n",
      "[4/100] 26 trees, 390 leaves (15 on avg), max depth = 10, in 0.554s\n",
      "[5/100] 26 trees, 390 leaves (15 on avg), max depth = 12, in 0.562s\n",
      "[6/100] 26 trees, 390 leaves (15 on avg), max depth = 12, in 0.569s\n",
      "[7/100] 26 trees, 390 leaves (15 on avg), max depth = 12, in 0.569s\n",
      "[8/100] 26 trees, 390 leaves (15 on avg), max depth = 10, in 0.575s\n",
      "[9/100] 26 trees, 390 leaves (15 on avg), max depth = 11, in 0.584s\n",
      "[10/100] 26 trees, 390 leaves (15 on avg), max depth = 11, in 0.560s\n",
      "[11/100] 26 trees, 390 leaves (15 on avg), max depth = 12, in 0.557s\n",
      "[12/100] 26 trees, 390 leaves (15 on avg), max depth = 11, in 0.577s\n",
      "[13/100] 26 trees, 390 leaves (15 on avg), max depth = 12, in 0.567s\n",
      "[14/100] 26 trees, 390 leaves (15 on avg), max depth = 12, in 0.564s\n",
      "[15/100] 26 trees, 390 leaves (15 on avg), max depth = 12, in 0.562s\n",
      "[16/100] 26 trees, 390 leaves (15 on avg), max depth = 13, in 0.556s\n",
      "[17/100] 26 trees, 390 leaves (15 on avg), max depth = 12, in 0.555s\n",
      "[18/100] 26 trees, 390 leaves (15 on avg), max depth = 11, in 0.562s\n",
      "[19/100] 26 trees, 390 leaves (15 on avg), max depth = 12, in 0.556s\n",
      "[20/100] 26 trees, 390 leaves (15 on avg), max depth = 10, in 0.561s\n",
      "[21/100] 26 trees, 390 leaves (15 on avg), max depth = 12, in 0.612s\n",
      "[22/100] 26 trees, 390 leaves (15 on avg), max depth = 10, in 0.582s\n",
      "[23/100] 26 trees, 390 leaves (15 on avg), max depth = 12, in 0.604s\n",
      "[24/100] 26 trees, 390 leaves (15 on avg), max depth = 10, in 0.576s\n",
      "[25/100] 26 trees, 390 leaves (15 on avg), max depth = 12, in 0.659s\n",
      "[26/100] 26 trees, 390 leaves (15 on avg), max depth = 11, in 0.561s\n",
      "[27/100] 26 trees, 390 leaves (15 on avg), max depth = 12, in 0.573s\n",
      "[28/100] 26 trees, 390 leaves (15 on avg), max depth = 10, in 0.552s\n",
      "[29/100] 26 trees, 390 leaves (15 on avg), max depth = 10, in 0.532s\n",
      "[30/100] 26 trees, 390 leaves (15 on avg), max depth = 10, in 0.530s\n",
      "[31/100] 26 trees, 390 leaves (15 on avg), max depth = 12, in 0.524s\n",
      "[32/100] 26 trees, 390 leaves (15 on avg), max depth = 10, in 0.492s\n",
      "[33/100] 26 trees, 390 leaves (15 on avg), max depth = 9, in 0.539s\n",
      "[34/100] 26 trees, 390 leaves (15 on avg), max depth = 11, in 0.542s\n",
      "[35/100] 26 trees, 390 leaves (15 on avg), max depth = 12, in 0.518s\n",
      "[36/100] 26 trees, 390 leaves (15 on avg), max depth = 11, in 0.537s\n",
      "[37/100] 26 trees, 390 leaves (15 on avg), max depth = 11, in 0.483s\n",
      "[38/100] 26 trees, 390 leaves (15 on avg), max depth = 11, in 0.541s\n",
      "[39/100] 26 trees, 390 leaves (15 on avg), max depth = 10, in 0.530s\n",
      "[40/100] 26 trees, 390 leaves (15 on avg), max depth = 11, in 0.561s\n",
      "[41/100] 26 trees, 390 leaves (15 on avg), max depth = 10, in 0.549s\n",
      "[42/100] 26 trees, 390 leaves (15 on avg), max depth = 12, in 0.559s\n",
      "[43/100] 26 trees, 390 leaves (15 on avg), max depth = 11, in 0.522s\n",
      "[44/100] 26 trees, 390 leaves (15 on avg), max depth = 11, in 0.579s\n",
      "[45/100] 26 trees, 390 leaves (15 on avg), max depth = 11, in 0.517s\n",
      "[46/100] 26 trees, 390 leaves (15 on avg), max depth = 11, in 0.550s\n",
      "[47/100] 26 trees, 390 leaves (15 on avg), max depth = 11, in 0.567s\n",
      "[48/100] 26 trees, 390 leaves (15 on avg), max depth = 9, in 0.585s\n",
      "[49/100] 26 trees, 390 leaves (15 on avg), max depth = 10, in 0.506s\n",
      "[50/100] 26 trees, 390 leaves (15 on avg), max depth = 10, in 0.513s\n",
      "[51/100] 26 trees, 390 leaves (15 on avg), max depth = 11, in 0.513s\n",
      "[52/100] 26 trees, 390 leaves (15 on avg), max depth = 10, in 0.518s\n",
      "[53/100] 26 trees, 390 leaves (15 on avg), max depth = 12, in 0.504s\n",
      "[54/100] 26 trees, 390 leaves (15 on avg), max depth = 10, in 0.528s\n",
      "[55/100] 26 trees, 390 leaves (15 on avg), max depth = 11, in 0.523s\n",
      "[56/100] 26 trees, 390 leaves (15 on avg), max depth = 11, in 0.527s\n",
      "[57/100] 26 trees, 390 leaves (15 on avg), max depth = 10, in 0.527s\n",
      "[58/100] 26 trees, 390 leaves (15 on avg), max depth = 11, in 0.526s\n",
      "[59/100] 26 trees, 390 leaves (15 on avg), max depth = 10, in 0.559s\n",
      "[60/100] 26 trees, 390 leaves (15 on avg), max depth = 10, in 0.568s\n",
      "[61/100] 26 trees, 390 leaves (15 on avg), max depth = 11, in 0.588s\n",
      "[62/100] 26 trees, 390 leaves (15 on avg), max depth = 10, in 0.576s\n",
      "[63/100] 26 trees, 390 leaves (15 on avg), max depth = 11, in 0.560s\n",
      "[64/100] 26 trees, 390 leaves (15 on avg), max depth = 10, in 0.570s\n",
      "[65/100] 26 trees, 390 leaves (15 on avg), max depth = 11, in 0.560s\n",
      "[66/100] 26 trees, 390 leaves (15 on avg), max depth = 12, in 0.581s\n",
      "[67/100] 26 trees, 390 leaves (15 on avg), max depth = 11, in 0.616s\n",
      "[68/100] 26 trees, 390 leaves (15 on avg), max depth = 10, in 0.586s\n",
      "[69/100] 26 trees, 390 leaves (15 on avg), max depth = 11, in 0.596s\n",
      "[70/100] 26 trees, 390 leaves (15 on avg), max depth = 11, in 0.585s\n",
      "[71/100] 26 trees, 390 leaves (15 on avg), max depth = 10, in 0.599s\n",
      "[72/100] 26 trees, 390 leaves (15 on avg), max depth = 11, in 0.591s\n",
      "[73/100] 26 trees, 388 leaves (14 on avg), max depth = 12, in 0.587s\n",
      "[74/100] 26 trees, 380 leaves (14 on avg), max depth = 12, in 0.592s\n",
      "[75/100] 26 trees, 377 leaves (14 on avg), max depth = 10, in 0.584s\n",
      "[76/100] 26 trees, 376 leaves (14 on avg), max depth = 10, in 0.600s\n",
      "[77/100] 26 trees, 376 leaves (14 on avg), max depth = 11, in 0.599s\n",
      "[78/100] 26 trees, 376 leaves (14 on avg), max depth = 12, in 0.587s\n",
      "[79/100] 26 trees, 371 leaves (14 on avg), max depth = 11, in 0.620s\n",
      "[80/100] 26 trees, 366 leaves (14 on avg), max depth = 11, in 0.603s\n",
      "[81/100] 26 trees, 362 leaves (13 on avg), max depth = 12, in 0.578s\n",
      "[82/100] 26 trees, 362 leaves (13 on avg), max depth = 11, in 0.593s\n",
      "[83/100] 26 trees, 362 leaves (13 on avg), max depth = 11, in 0.597s\n",
      "[84/100] 26 trees, 362 leaves (13 on avg), max depth = 12, in 0.607s\n",
      "[85/100] 26 trees, 362 leaves (13 on avg), max depth = 11, in 0.614s\n",
      "[86/100] 26 trees, 362 leaves (13 on avg), max depth = 12, in 0.630s\n",
      "[87/100] 26 trees, 363 leaves (13 on avg), max depth = 12, in 0.669s\n",
      "[88/100] 26 trees, 362 leaves (13 on avg), max depth = 11, in 0.625s\n",
      "[89/100] 26 trees, 362 leaves (13 on avg), max depth = 11, in 0.626s\n",
      "[90/100] 26 trees, 362 leaves (13 on avg), max depth = 12, in 0.654s\n",
      "[91/100] 26 trees, 362 leaves (13 on avg), max depth = 12, in 0.648s\n",
      "[92/100] 26 trees, 352 leaves (13 on avg), max depth = 13, in 0.642s\n",
      "[93/100] 26 trees, 359 leaves (13 on avg), max depth = 12, in 0.635s\n",
      "[94/100] 26 trees, 348 leaves (13 on avg), max depth = 11, in 0.627s\n",
      "[95/100] 26 trees, 351 leaves (13 on avg), max depth = 11, in 0.653s\n",
      "[96/100] 26 trees, 349 leaves (13 on avg), max depth = 13, in 0.653s\n",
      "[97/100] 26 trees, 348 leaves (13 on avg), max depth = 12, in 0.646s\n",
      "[98/100] 26 trees, 342 leaves (13 on avg), max depth = 11, in 0.640s\n",
      "[99/100] 26 trees, 335 leaves (12 on avg), max depth = 13, in 0.614s\n",
      "[100/100] 26 trees, 333 leaves (12 on avg), max depth = 12, in 0.614s\n",
      "Fit 2600 trees in 58.394 s, (38190 total leaves)\n",
      "Time spent computing histograms: 34.972s\n",
      "Time spent finding best splits:  0.874s\n",
      "Time spent applying splits:      5.217s\n",
      "Time spent predicting:           1.677s\n"
     ]
    }
   ],
   "source": [
    "my_model = train_model_quick(model_type, X_train, y_train, {'trees': 100, 'depth': 15, 'min_leaf': 3, 'min_split': 2, 'subsample': 0.5, 'leaf_nodes': 15})"
   ]
  },
  {
   "cell_type": "code",
   "execution_count": 35,
   "metadata": {
    "colab": {
     "base_uri": "https://localhost:8080/"
    },
    "executionInfo": {
     "elapsed": 152966,
     "status": "ok",
     "timestamp": 1742282163591,
     "user": {
      "displayName": "Gambir369",
      "userId": "18272162756121039101"
     },
     "user_tz": -60
    },
    "id": "WmZFQVkIJvgU",
    "outputId": "91229456-c893-464c-921c-07adf885eecf"
   },
   "outputs": [
    {
     "name": "stdout",
     "output_type": "stream",
     "text": [
      "Fitting 5 folds for each of 9 candidates, totalling 45 fits\n"
     ]
    }
   ],
   "source": [
    "my_model = train_model(model_type, X_train, y_train)"
   ]
  },
  {
   "cell_type": "markdown",
   "metadata": {
    "id": "7KEQNObUX0dB"
   },
   "source": [
    "**See which hyper parameters where chosen as the best**"
   ]
  },
  {
   "cell_type": "code",
   "execution_count": 36,
   "metadata": {
    "colab": {
     "base_uri": "https://localhost:8080/"
    },
    "executionInfo": {
     "elapsed": 15,
     "status": "ok",
     "timestamp": 1742282163609,
     "user": {
      "displayName": "Gambir369",
      "userId": "18272162756121039101"
     },
     "user_tz": -60
    },
    "id": "qyeeEkc1Rexv",
    "outputId": "de889149-0c95-486f-fd0c-508913af8e6c"
   },
   "outputs": [
    {
     "data": {
      "text/plain": [
       "{'estimator__max_iter': 600, 'estimator__max_leaf_nodes': 31}"
      ]
     },
     "execution_count": 36,
     "metadata": {},
     "output_type": "execute_result"
    }
   ],
   "source": [
    "my_model.best_params_"
   ]
  },
  {
   "cell_type": "markdown",
   "metadata": {
    "id": "A3lSyREPYAgF"
   },
   "source": [
    "**See the models predictions .. does kinda nothing, is here just for fun**"
   ]
  },
  {
   "cell_type": "code",
   "execution_count": 11,
   "metadata": {
    "colab": {
     "base_uri": "https://localhost:8080/"
    },
    "executionInfo": {
     "elapsed": 4,
     "status": "ok",
     "timestamp": 1742282163614,
     "user": {
      "displayName": "Gambir369",
      "userId": "18272162756121039101"
     },
     "user_tz": -60
    },
    "id": "yrCtJaXTRo4x",
    "outputId": "03f559cd-d770-4ebd-f0ba-e3c6bb72314a"
   },
   "outputs": [
    {
     "data": {
      "text/plain": [
       "array([1, 2, 1, ..., 1, 1, 1], shape=(103110,))"
      ]
     },
     "execution_count": 11,
     "metadata": {},
     "output_type": "execute_result"
    }
   ],
   "source": [
    "y_pred = my_model.predict(X_test)\n",
    "y_pred"
   ]
  },
  {
   "cell_type": "markdown",
   "metadata": {
    "id": "135u4BLKYHos"
   },
   "source": [
    "# Score our model using the score() method. The closer to 1.0 the better"
   ]
  },
  {
   "cell_type": "code",
   "execution_count": 37,
   "metadata": {
    "colab": {
     "base_uri": "https://localhost:8080/"
    },
    "executionInfo": {
     "elapsed": 4,
     "status": "ok",
     "timestamp": 1742282163619,
     "user": {
      "displayName": "Gambir369",
      "userId": "18272162756121039101"
     },
     "user_tz": -60
    },
    "id": "NHW1GSvvR4bc",
    "outputId": "dc832929-1ddc-40bc-f2a7-0d1f59295c19"
   },
   "outputs": [
    {
     "data": {
      "text/plain": [
       "0.9517214625157598"
      ]
     },
     "execution_count": 37,
     "metadata": {},
     "output_type": "execute_result"
    }
   ],
   "source": [
    "my_model.score(X_test, y_test)"
   ]
  },
  {
   "cell_type": "markdown",
   "metadata": {
    "id": "ZXorRZRL6Dmt"
   },
   "source": [
    "# Export the model"
   ]
  },
  {
   "cell_type": "code",
   "execution_count": 38,
   "metadata": {
    "id": "tv5uMrFn6F_t"
   },
   "outputs": [],
   "source": [
    "import pickle"
   ]
  },
  {
   "cell_type": "markdown",
   "metadata": {
    "id": "Jin3wnQY8PCA"
   },
   "source": [
    "**Export our model using pickle**"
   ]
  },
  {
   "cell_type": "code",
   "execution_count": 39,
   "metadata": {
    "id": "JPi2R2jz6S4p"
   },
   "outputs": [],
   "source": [
    "pickle.dump(my_model, open(\"network_classificator.dat\", \"wb\"))"
   ]
  }
 ],
 "metadata": {
  "colab": {
   "authorship_tag": "ABX9TyPTBifjjIePGLX1BNrRGAJU",
   "provenance": []
  },
  "kernelspec": {
   "display_name": "Python 3",
   "language": "python",
   "name": "python3"
  },
  "language_info": {
   "codemirror_mode": {
    "name": "ipython",
    "version": 3
   },
   "file_extension": ".py",
   "mimetype": "text/x-python",
   "name": "python",
   "nbconvert_exporter": "python",
   "pygments_lexer": "ipython3",
   "version": "3.11.9"
  }
 },
 "nbformat": 4,
 "nbformat_minor": 0
}
